{
 "cells": [
  {
   "cell_type": "markdown",
   "metadata": {},
   "source": [
    "# Logistic regression and Naive Bayes from scratch #\n",
    "1. implement a logistic regression with cross-entropy loss function\n",
    "2. implement a naive bayes algorithm using for the $P(x_{i}|class=k)=N(\\mu_{k},\\sigma_{k})$\n",
    "3. test both in cross-validation on the iris dataset\n",
    "* for the measure of accuracy, and cross-validation use sklearn classification_report and cohen_kappa_score\n",
    "* for the cross-validation use KFold \n",
    "* to evaluate the results use the Union of all the prediction and comapre them with the Union of the test labels\n"
   ]
  },
  {
   "cell_type": "code",
   "execution_count": 1,
   "metadata": {},
   "outputs": [
    {
     "name": "stdout",
     "output_type": "stream",
     "text": [
      "(150, 4)\n"
     ]
    },
    {
     "data": {
      "text/html": [
       "<div>\n",
       "<style scoped>\n",
       "    .dataframe tbody tr th:only-of-type {\n",
       "        vertical-align: middle;\n",
       "    }\n",
       "\n",
       "    .dataframe tbody tr th {\n",
       "        vertical-align: top;\n",
       "    }\n",
       "\n",
       "    .dataframe thead th {\n",
       "        text-align: right;\n",
       "    }\n",
       "</style>\n",
       "<table border=\"1\" class=\"dataframe\">\n",
       "  <thead>\n",
       "    <tr style=\"text-align: right;\">\n",
       "      <th></th>\n",
       "      <th>c0</th>\n",
       "      <th>c1</th>\n",
       "      <th>c2</th>\n",
       "      <th>c3</th>\n",
       "      <th>target</th>\n",
       "    </tr>\n",
       "  </thead>\n",
       "  <tbody>\n",
       "    <tr>\n",
       "      <th>0</th>\n",
       "      <td>6.1</td>\n",
       "      <td>3.0</td>\n",
       "      <td>4.6</td>\n",
       "      <td>1.4</td>\n",
       "      <td>1.0</td>\n",
       "    </tr>\n",
       "    <tr>\n",
       "      <th>1</th>\n",
       "      <td>6.5</td>\n",
       "      <td>3.0</td>\n",
       "      <td>5.2</td>\n",
       "      <td>2.0</td>\n",
       "      <td>2.0</td>\n",
       "    </tr>\n",
       "    <tr>\n",
       "      <th>2</th>\n",
       "      <td>6.1</td>\n",
       "      <td>2.6</td>\n",
       "      <td>5.6</td>\n",
       "      <td>1.4</td>\n",
       "      <td>2.0</td>\n",
       "    </tr>\n",
       "    <tr>\n",
       "      <th>3</th>\n",
       "      <td>5.0</td>\n",
       "      <td>3.4</td>\n",
       "      <td>1.5</td>\n",
       "      <td>0.2</td>\n",
       "      <td>0.0</td>\n",
       "    </tr>\n",
       "    <tr>\n",
       "      <th>4</th>\n",
       "      <td>6.5</td>\n",
       "      <td>3.0</td>\n",
       "      <td>5.8</td>\n",
       "      <td>2.2</td>\n",
       "      <td>2.0</td>\n",
       "    </tr>\n",
       "  </tbody>\n",
       "</table>\n",
       "</div>"
      ],
      "text/plain": [
       "    c0   c1   c2   c3  target\n",
       "0  6.1  3.0  4.6  1.4     1.0\n",
       "1  6.5  3.0  5.2  2.0     2.0\n",
       "2  6.1  2.6  5.6  1.4     2.0\n",
       "3  5.0  3.4  1.5  0.2     0.0\n",
       "4  6.5  3.0  5.8  2.2     2.0"
      ]
     },
     "execution_count": 1,
     "metadata": {},
     "output_type": "execute_result"
    },
    {
     "data": {
      "image/png": "[encoded data removed]",
      "text/plain": [
       "<Figure size 432x288 with 4 Axes>"
      ]
     },
     "metadata": {
      "needs_background": "light"
     },
     "output_type": "display_data"
    }
   ],
   "source": [
    "%matplotlib inline\n",
    "import sklearn \n",
    "from sklearn.linear_model import LogisticRegression\n",
    "import matplotlib.pyplot as plt\n",
    "import pandas as pd\n",
    "import os\n",
    "import tarfile\n",
    "import urllib\n",
    "import numpy as np\n",
    "from  sklearn import datasets\n",
    "\n",
    "from sklearn.model_selection import KFold\n",
    "from sklearn.metrics import classification_report\n",
    "from sklearn.metrics import cohen_kappa_score\n",
    "from sklearn.model_selection import train_test_split\n",
    "\n",
    "\n",
    "iris = datasets.load_iris()\n",
    "X = iris.data\n",
    "y = iris.target\n",
    "N = X.shape[0]\n",
    "print(X.shape)\n",
    "\n",
    "NL = int(N*0.60)\n",
    "NT = N - NL\n",
    "indices = np.random.permutation(X.shape[0])\n",
    "\n",
    "XL, yL = X[indices[:NL]], y[indices[:NL]]\n",
    "XT, yT = X[indices[NL:]], y[indices[NL:]]\n",
    "\n",
    "\n",
    "\n",
    "df = pd.DataFrame(np.hstack((XL,yL.reshape(yL.shape[0],1))), columns=[\"c\"+str(i) for i in range(4)]+[\"target\"])\n",
    "df.groupby(df.columns[-1]).count()\n",
    "df.groupby(df.columns[-1]).boxplot()\n",
    "Count1=df.groupby(df.columns[-1]).count()\n",
    "df.head()\n",
    "\n"
   ]
  },
  {
   "cell_type": "code",
   "execution_count": 2,
   "metadata": {},
   "outputs": [
    {
     "data": {
      "text/plain": [
       "3"
      ]
     },
     "execution_count": 2,
     "metadata": {},
     "output_type": "execute_result"
    }
   ],
   "source": [
    "K=max(yL)+1 #number of classes\n",
    "K"
   ]
  },
  {
   "cell_type": "markdown",
   "metadata": {},
   "source": [
    "# Naive Bayes method #\n",
    "\n",
    "\n"
   ]
  },
  {
   "cell_type": "code",
   "execution_count": 3,
   "metadata": {},
   "outputs": [],
   "source": [
    "#here I define function that compute gaussian distribution\n",
    "def gaussian_distr(sigma, mu, x):\n",
    "    denom=sigma*np.sqrt(2*np.pi)\n",
    "    expon=(x-mu)**2/(2*sigma)\n",
    "    g_distr=np.exp(-expon)/denom\n",
    "    return g_distr"
   ]
  },
  {
   "cell_type": "code",
   "execution_count": 4,
   "metadata": {},
   "outputs": [],
   "source": [
    "mu_m=df.groupby(df.columns[-1]).mean()"
   ]
  },
  {
   "cell_type": "code",
   "execution_count": 5,
   "metadata": {},
   "outputs": [],
   "source": [
    "sigma_m=df.groupby(df.columns[-1]).std()"
   ]
  },
  {
   "cell_type": "code",
   "execution_count": 6,
   "metadata": {},
   "outputs": [],
   "source": [
    "#this function returns the probability of belonging to a class, \n",
    "#parameters mu_M and sigma_M are from dataframe groupby, so they are neither arrays nor lists\n",
    "#if we need to use this function for array and lists mu_M and sigma_M, we have to modify the iloc[j,k] with [j][k]\n",
    "\n",
    "def Naive_bayes(x, y,kappa, mu_M, sigma_M):\n",
    "    Gauss_M=np.zeros((kappa, len(x.T)))\n",
    "    Defin=np.ones((len(x),kappa))\n",
    "    for i in range (len(x)):#i is for the data points\n",
    "        for k in range (kappa):#k is for the classes\n",
    "            for j in range (len(x.T)): #j is for the features\n",
    "                Gauss_M[k][j]=gaussian_distr(sigma_M.iloc[k,j], mu_M.iloc[k,j], x[i][j])\n",
    "            q=Gauss_M[k].prod()\n",
    "            Defin[i][k]=q*Count1.iloc[k,0]   \n",
    "    return Defin\n",
    "\n",
    "#print(Naive_bayes_func(XT, K, yT, df)) "
   ]
  },
  {
   "cell_type": "code",
   "execution_count": 7,
   "metadata": {},
   "outputs": [],
   "source": [
    "def estimate_Prediction(y_pred_prob): #from probability of belonging to a class to prediction\n",
    "\n",
    "    prediction=np.ones(((len(y_pred_prob)),1))\n",
    "    for i in range (len(y_pred_prob)):\n",
    "        prediction[i]=np.argmax(y_pred_prob[i])\n",
    "        \n",
    "    return prediction\n",
    "\n",
    "Y_pred=estimate_Prediction(Naive_bayes(XT, yT,K, mu_m, sigma_m))\n",
    "#print(Y_pred)"
   ]
  },
  {
   "cell_type": "code",
   "execution_count": 8,
   "metadata": {},
   "outputs": [
    {
     "data": {
      "text/plain": [
       "0.95"
      ]
     },
     "execution_count": 8,
     "metadata": {},
     "output_type": "execute_result"
    }
   ],
   "source": [
    "#this function returns the accuracy calculated from scratch\n",
    "def accuracy(y_pred, y):\n",
    "    c=0\n",
    "    m=len(y)\n",
    "    for i in range (m):\n",
    "        if y_pred[i]==y[i]:\n",
    "            c+=1\n",
    "    return c/m\n",
    "\n",
    "accuracy(Y_pred,yT)"
   ]
  },
  {
   "cell_type": "code",
   "execution_count": 9,
   "metadata": {},
   "outputs": [
    {
     "data": {
      "text/plain": [
       "0.9245599329421627"
      ]
     },
     "execution_count": 9,
     "metadata": {},
     "output_type": "execute_result"
    }
   ],
   "source": [
    "cohen=cohen_kappa_score(Y_pred,yT)\n",
    "cohen"
   ]
  },
  {
   "cell_type": "code",
   "execution_count": 10,
   "metadata": {},
   "outputs": [
    {
     "name": "stdout",
     "output_type": "stream",
     "text": [
      "              precision    recall  f1-score   support\n",
      "\n",
      "         0.0       1.00      1.00      1.00        22\n",
      "         1.0       1.00      0.87      0.93        23\n",
      "         2.0       0.83      1.00      0.91        15\n",
      "\n",
      "    accuracy                           0.95        60\n",
      "   macro avg       0.94      0.96      0.95        60\n",
      "weighted avg       0.96      0.95      0.95        60\n",
      "\n"
     ]
    }
   ],
   "source": [
    "print(classification_report(Y_pred,yT))\n"
   ]
  },
  {
   "cell_type": "markdown",
   "metadata": {},
   "source": [
    " # Logistic Regression with cross-entropy #\n"
   ]
  },
  {
   "cell_type": "code",
   "execution_count": 11,
   "metadata": {},
   "outputs": [],
   "source": [
    "#this function add a column of ones for bias\n",
    "def add_bias(x):\n",
    "    n=len(x)\n",
    "    x0=np.ones((n,1))\n",
    "    x1=np.concatenate((x0,x), axis=1)\n",
    "    return x1\n",
    "#this function creates the one hot encoding matrix from a 1-d array\n",
    "def one_hot_enc_matrix(y):\n",
    "    y1=np.zeros((len(y), K))\n",
    "    for g in range (0,(len(y))):\n",
    "        y1[g,y[g]]=1\n",
    "        #print(y[g])\n",
    "    return y1\n",
    "\n",
    "def exp_z(x, beta):\n",
    "    Z=np.dot(x, beta)\n",
    "    prob=np.exp(Z)\n",
    "    return prob"
   ]
  },
  {
   "cell_type": "code",
   "execution_count": 12,
   "metadata": {},
   "outputs": [],
   "source": [
    "def Cross_entropy(x1, y1, tmax, alpha): #tmax number of iterations, alpha learning rate\n",
    "    n=len(x1)\n",
    "    theta=np.zeros((len(x1.T), K)) #theta has dimension = number of features + 1 (bias/intercept), classes\n",
    "    Norm=np.zeros((len(x1), K))\n",
    "    prop=np.zeros((len(x1), K))\n",
    "    tau=1\n",
    "    \n",
    "    while tau < tmax:\n",
    "        prop=exp_z(x1, theta)\n",
    "        for i in range (n):\n",
    "            Norm[i]=prop[i].sum()  \n",
    "        prop_norm=prop/Norm\n",
    "        theta = theta - (alpha/n)*np.dot(x1.T,(prop_norm-y1))\n",
    "        tau += 1\n",
    "            \n",
    "    return theta"
   ]
  },
  {
   "cell_type": "code",
   "execution_count": 13,
   "metadata": {},
   "outputs": [],
   "source": [
    "def pred_cross_entr(x1, beta):\n",
    "    prop=exp_z(x1, beta)\n",
    "    Norm=np.zeros((len(x1), K))\n",
    "    for i in range (len(x1)):\n",
    "        Norm[i]=prop[i].sum()\n",
    "    prop_norm=prop/Norm\n",
    "    \n",
    "    return prop_norm"
   ]
  },
  {
   "cell_type": "code",
   "execution_count": 14,
   "metadata": {},
   "outputs": [],
   "source": [
    "def cross_En_loss(y_pred, y, kappa):\n",
    "    m=len(y)\n",
    "    \n",
    "    #calculate cross entropy loss function for the y_pred I found\n",
    "    summation1=np.ones((len(y_pred), kappa))\n",
    "    summation2=np.ones((len(y_pred), 1))\n",
    "    \n",
    "    for i in range (m):\n",
    "        for k in range (kappa):\n",
    "            summation1[i][k]=y[i][k]*np.log(y_pred[i][k])\n",
    "        summation2[i]= summation1[i].sum()\n",
    "        \n",
    "    loss_c_e=-(1/m)*summation2.sum()   \n",
    "\n",
    "    return loss_c_e"
   ]
  },
  {
   "cell_type": "code",
   "execution_count": 15,
   "metadata": {
    "scrolled": true
   },
   "outputs": [],
   "source": [
    "\n",
    "numK=10 #here it's possible to choose the number of folds\n",
    "kf = KFold(n_splits=numK,shuffle=True, random_state=None)\n",
    "score_tot=[]\n",
    "parameters=[]\n",
    "\n",
    "yL_h=one_hot_enc_matrix(yL)\n",
    "yT_h=one_hot_enc_matrix(yT)\n",
    "XL_b=add_bias(XL)\n",
    "XT_b=add_bias(XT)\n",
    "\n",
    "score_tot=[]\n",
    "parameters=[]\n",
    "\n",
    "for gamma in np.arange(0.02, 1.5, 0.02, dtype=\"float32\"):\n",
    "    for t_max in range (10, 800, 100):\n",
    "        prediction=[]\n",
    "        ytest=[]\n",
    "        for train_index, test_index in kf.split(XL_b):\n",
    "            #print(\"TRAIN:\", train_index, \"TEST:\", test_index)\n",
    "            X_train_b, X_test_b = XL_b[train_index], XL_b[test_index]\n",
    "            y_train_h,y_test_h = yL_h[train_index], yL_h[test_index]\n",
    "            y_train, y_test = yL[train_index], yL[test_index]\n",
    "            beta=Cross_entropy(X_train_b, y_train_h, t_max, gamma)\n",
    "            Y_prob=pred_cross_entr(X_test_b, beta)\n",
    "            Y_predict=estimate_Prediction(Y_prob)\n",
    "    \n",
    "            prediction.extend(Y_predict)\n",
    "            ytest.extend(y_test)\n",
    "        cohen=cohen_kappa_score(prediction,ytest)\n",
    "        #print(cohen)     \n",
    "\n",
    "        score_tot.append(cohen)\n",
    "        parameters.append((gamma,t_max))\n",
    "\n"
   ]
  },
  {
   "cell_type": "code",
   "execution_count": 16,
   "metadata": {},
   "outputs": [
    {
     "name": "stdout",
     "output_type": "stream",
     "text": [
      "Best hyperparameters are (alpha, t max) (0.17999999, 710)\n",
      "Cohen score for test set is  0.9249374478732277\n",
      "Table of classification report for test set \n",
      "               precision    recall  f1-score   support\n",
      "\n",
      "         0.0       1.00      1.00      1.00        22\n",
      "         1.0       0.85      1.00      0.92        17\n",
      "         2.0       1.00      0.86      0.92        21\n",
      "\n",
      "    accuracy                           0.95        60\n",
      "   macro avg       0.95      0.95      0.95        60\n",
      "weighted avg       0.96      0.95      0.95        60\n",
      "\n"
     ]
    }
   ],
   "source": [
    "hyperpar_best= parameters[np.argmax(score_tot)]\n",
    "alpha_best=hyperpar_best[0]\n",
    "t_max_best=hyperpar_best[1]\n",
    "\n",
    "beta_best=Cross_entropy(XL_b, yL_h, t_max_best, alpha_best)\n",
    "\n",
    "Y_prob=pred_cross_entr(XT_b, beta_best)\n",
    "Y_predict=estimate_Prediction(Y_prob)\n",
    "\n",
    "print(\"Best hyperparameters are (alpha, t max)\", hyperpar_best)\n",
    "print(\"Cohen score for test set is \", cohen_kappa_score(Y_predict,yT))\n",
    "print(\"Table of classification report for test set \\n\", classification_report(Y_predict,yT))"
   ]
  },
  {
   "cell_type": "code",
   "execution_count": 17,
   "metadata": {},
   "outputs": [
    {
     "name": "stdout",
     "output_type": "stream",
     "text": [
      "Loss calculated on test set is 0.13754539016342507\n",
      "Accuracy calculated on test set is  0.95\n"
     ]
    }
   ],
   "source": [
    "print(\"Loss calculated on test set is\", cross_En_loss(Y_prob, yT_h, K))\n",
    "print(\"Accuracy calculated on test set is \", accuracy(Y_predict, yT))"
   ]
  },
  {
   "cell_type": "markdown",
   "metadata": {},
   "source": [
    "I added to the analysis a heatmap that shows how cohen score changes, if alpha and t_max vary. \n",
    "In this way we can note consequent behaviors as, for example, the fact that if we have a small learning rate we can have fairly good performace even with fewer iterations but if we are seeking the best possible performance we still need to have a higher number of iterations. We can observe that for large part of learning rate values the number of iteration needed to perform well (cohen circa 0.9 for example) is approximately 200."
   ]
  },
  {
   "cell_type": "code",
   "execution_count": 18,
   "metadata": {},
   "outputs": [
    {
     "data": {
      "text/plain": [
       "Text(0.5, 51.0, 'Learning rate')"
      ]
     },
     "execution_count": 18,
     "metadata": {},
     "output_type": "execute_result"
    },
    {
     "data": {
      "image/png": "[encoded data removed]",
      "text/plain": [
       "<Figure size 1296x576 with 2 Axes>"
      ]
     },
     "metadata": {
      "needs_background": "light"
     },
     "output_type": "display_data"
    }
   ],
   "source": [
    "import seaborn as sbn\n",
    "a=np.arange (10, 800, 100)\n",
    "b=np.arange (0.02, 1.5, 0.02, dtype=\"float16\")\n",
    "#print(len(b))\n",
    "#a and b must be the same to the ones in for cycles of k fold\n",
    "\n",
    "\n",
    "score_totNP=np.array(score_tot)\n",
    "S=score_totNP.reshape((len(b),len(a))).T\n",
    "\n",
    "fig = plt.figure(figsize=[18,8])\n",
    "\n",
    "sbn.heatmap(S, yticklabels=a,xticklabels=b, cmap=\"YlGnBu\")\n",
    "\n",
    "plt.ylabel('T max')\n",
    "plt.xlabel('Learning rate')"
   ]
  },
  {
   "cell_type": "code",
   "execution_count": null,
   "metadata": {},
   "outputs": [],
   "source": []
  }
 ],
 "metadata": {
  "kernelspec": {
   "display_name": "Python 3",
   "language": "python",
   "name": "python3"
  },
  "language_info": {
   "codemirror_mode": {
    "name": "ipython",
    "version": 3
   },
   "file_extension": ".py",
   "mimetype": "text/x-python",
   "name": "python",
   "nbconvert_exporter": "python",
   "pygments_lexer": "ipython3",
   "version": "3.8.5"
  }
 },
 "nbformat": 4,
 "nbformat_minor": 2
}
